{
 "cells": [
  {
   "cell_type": "code",
   "execution_count": 2,
   "metadata": {},
   "outputs": [
    {
     "data": {
      "application/javascript": [
       "// Printing a string with JavaScript\n",
       "console.log(\"Hello, world!\");\n"
      ],
      "text/plain": [
       "<IPython.core.display.Javascript object>"
      ]
     },
     "metadata": {},
     "output_type": "display_data"
    }
   ],
   "source": [
    "%%js\n",
    "// Printing a string with JavaScript\n",
    "console.log(\"Hello, world!\");"
   ]
  },
  {
   "cell_type": "code",
   "execution_count": 3,
   "metadata": {},
   "outputs": [
    {
     "data": {
      "application/javascript": [
       "var y = 2; \n",
       "console.log(y);\n"
      ],
      "text/plain": [
       "<IPython.core.display.Javascript object>"
      ]
     },
     "metadata": {},
     "output_type": "display_data"
    }
   ],
   "source": [
    "%%js \n",
    "var y = 2; \n",
    "console.log(y);"
   ]
  },
  {
   "cell_type": "code",
   "execution_count": 10,
   "metadata": {},
   "outputs": [
    {
     "data": {
      "application/javascript": [
       "// Simple JavaScript console.log statement\n",
       "function printHello() {\n",
       "  console.log(\"Hello there!\");\n",
       "}\n"
      ],
      "text/plain": [
       "<IPython.core.display.Javascript object>"
      ]
     },
     "metadata": {},
     "output_type": "display_data"
    }
   ],
   "source": [
    "%%js\n",
    "// Simple JavaScript console.log statement\n",
    "function printHello() {\n",
    "  console.log(\"Hello there!\");\n",
    "}\n"
   ]
  },
  {
   "cell_type": "code",
   "execution_count": 18,
   "metadata": {},
   "outputs": [
    {
     "data": {
      "application/javascript": [
       "// Takes two numbers and adds them\n",
       "function addition(a, b) {\n",
       "  return a + b;\n",
       "}\n",
       "console.log(addition(4, 5));\n",
       "// Functions can call other functions\n",
       "function doubleAddition(c, d) {\n",
       "  var total = addition(c, d) * 2;\n",
       "  return total;\n",
       "}\n",
       "console.log(doubleAddition(64, 35));\n"
      ],
      "text/plain": [
       "<IPython.core.display.Javascript object>"
      ]
     },
     "metadata": {},
     "output_type": "display_data"
    }
   ],
   "source": [
    "%%js\n",
    "// Takes two numbers and adds them\n",
    "function addition(a, b) {\n",
    "  return a + b;\n",
    "}\n",
    "console.log(addition(4, 5));\n",
    "\n",
    "// Functions can call other functions\n",
    "function doubleAddition(c, d) {\n",
    "  var total = addition(c, d) * 2;\n",
    "  return total;\n",
    "}\n",
    "console.log(doubleAddition(64, 35));"
   ]
  },
  {
   "cell_type": "code",
   "execution_count": 23,
   "metadata": {},
   "outputs": [
    {
     "data": {
      "application/javascript": [
       "// Simple JavaScript log statement\n",
       "function printHello() {\n",
       "  return \"Hello there!\";\n",
       "}\n",
       "\n",
       "printHello = () => \"Hello there!\";\n"
      ],
      "text/plain": [
       "<IPython.core.display.Javascript object>"
      ]
     },
     "metadata": {},
     "output_type": "display_data"
    }
   ],
   "source": [
    "%%js\n",
    "// Simple JavaScript log statement\n",
    "function printHello() {\n",
    "  return \"Hello there!\";\n",
    "}\n",
    "printHello = () => \"Hello there!\";\n"
   ]
  },
  {
   "cell_type": "code",
   "execution_count": 26,
   "metadata": {},
   "outputs": [
    {
     "data": {
      "application/javascript": [
       "// Original addition function\n",
       "function addition(a, b) {\n",
       "  return a + b;\n",
       "}\n",
       "// Converted to an arrow function\n",
       "addition = (a, b) => a + b;\n",
       "\n",
       "// Original doubleAddition function\n",
       "function doubleAddition(c, d) {\n",
       "  var total = addition(c, d) * 2;\n",
       "  return total;\n",
       "}\n",
       "// Converted\n",
       "doubleAddition = (c, d) => addition(c, d) * 2;\n"
      ],
      "text/plain": [
       "<IPython.core.display.Javascript object>"
      ]
     },
     "metadata": {},
     "output_type": "display_data"
    }
   ],
   "source": [
    "%%js\n",
    "// Original addition function\n",
    "function addition(a, b) {\n",
    "  return a + b;\n",
    "}\n",
    "// Converted to an arrow function\n",
    "addition = (a, b) => a + b;\n",
    "\n",
    "// Original doubleAddition function\n",
    "function doubleAddition(c, d) {\n",
    "  var total = addition(c, d) * 2;\n",
    "  return total;\n",
    "}\n",
    "// Converted\n",
    "doubleAddition = (c, d) => addition(c, d) * 2;"
   ]
  },
  {
   "cell_type": "code",
   "execution_count": 28,
   "metadata": {},
   "outputs": [
    {
     "data": {
      "application/javascript": [
       "let friends = [\"Sarah\", \"Greg\", \"Cindy\", \"Jeff\"];\n",
       "function listLoop(userList) {\n",
       "   for (var i = 0; i < userList.length; i++) {\n",
       "     console.log(userList[i]);\n",
       "   }\n",
       "}\n",
       "console.log(listLoop(friends));\n"
      ],
      "text/plain": [
       "<IPython.core.display.Javascript object>"
      ]
     },
     "metadata": {},
     "output_type": "display_data"
    }
   ],
   "source": [
    "%%js\n",
    "let friends = [\"Sarah\", \"Greg\", \"Cindy\", \"Jeff\"];\n",
    "function listLoop(userList) {\n",
    "   for (var i = 0; i < userList.length; i++) {\n",
    "     console.log(userList[i]);\n",
    "   }\n",
    "}\n",
    "console.log(listLoop(friends));"
   ]
  },
  {
   "cell_type": "code",
   "execution_count": 30,
   "metadata": {},
   "outputs": [
    {
     "data": {
      "application/javascript": [
       "var vegetables = [\"Carrots\", \"Peas\", \"Lettuce\", \"Tomatoes\"];\n",
       "      \n",
       "for (var i = 0; i < vegetables.length; i++) {\n",
       "    console.log(\"I love \" + vegetables[i]);\n",
       "}\n",
       "for (var i = 0; i < 5; i++) {\n",
       "   console.log(\"I am \" + i);\n",
       "}\n"
      ],
      "text/plain": [
       "<IPython.core.display.Javascript object>"
      ]
     },
     "metadata": {},
     "output_type": "display_data"
    }
   ],
   "source": [
    "%%js\n",
    "var vegetables = [\"Carrots\", \"Peas\", \"Lettuce\", \"Tomatoes\"];\n",
    "      \n",
    "for (var i = 0; i < vegetables.length; i++) {\n",
    "    console.log(\"I love \" + vegetables[i]);\n",
    "}\n",
    "for (var i = 0; i < 5; i++) {\n",
    "   console.log(\"I am \" + i);\n",
    "}"
   ]
  },
  {
   "cell_type": "code",
   "execution_count": null,
   "metadata": {},
   "outputs": [],
   "source": []
  }
 ],
 "metadata": {
  "kernelspec": {
   "display_name": "Python 3",
   "language": "python",
   "name": "python3"
  },
  "language_info": {
   "codemirror_mode": {
    "name": "ipython",
    "version": 3
   },
   "file_extension": ".py",
   "mimetype": "text/x-python",
   "name": "python",
   "nbconvert_exporter": "python",
   "pygments_lexer": "ipython3",
   "version": "3.7.6"
  }
 },
 "nbformat": 4,
 "nbformat_minor": 4
}
